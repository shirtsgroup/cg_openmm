{
 "cells": [
  {
   "cell_type": "code",
   "execution_count": 1,
   "metadata": {
    "collapsed": false
   },
   "outputs": [
    {
     "name": "stderr",
     "output_type": "stream",
     "text": [
      "/home/cvogel/software/anaconda3/lib/python3.6/site-packages/sklearn/cross_validation.py:41: DeprecationWarning: This module was deprecated in version 0.18 in favor of the model_selection module into which all the refactored classes and functions are moved. Also note that the interface of the new CV iterators are different from that of this module. This module will be removed in 0.20.\n",
      "  \"This module will be removed in 0.20.\", DeprecationWarning)\n",
      "/home/cvogel/software/anaconda3/lib/python3.6/site-packages/sklearn/grid_search.py:42: DeprecationWarning: This module was deprecated in version 0.18 in favor of the model_selection module into which all the refactored classes and functions are moved. This module will be removed in 0.20.\n",
      "  DeprecationWarning)\n"
     ]
    }
   ],
   "source": [
    "import os\n",
    "from simtk import unit\n",
    "import foldamers\n",
    "import cg_openmm\n",
    "from simtk.openmm.app.pdbfile import PDBFile\n",
    "from foldamers.cg_model.cgmodel import CGModel\n",
    "from cg_openmm.simulation.tools import run_simulation\n",
    "import numpy as np"
   ]
  },
  {
   "cell_type": "code",
   "execution_count": 2,
   "metadata": {
    "collapsed": true
   },
   "outputs": [],
   "source": [
    "# Job settings\n",
    "output_directory = 'output'\n",
    "if not os.path.exists(output_directory):\n",
    "    os.mkdir(output_directory)"
   ]
  },
  {
   "cell_type": "code",
   "execution_count": 3,
   "metadata": {
    "collapsed": true
   },
   "outputs": [],
   "source": [
    "print_frequency = 500  # Number of steps to skip when printing output\n",
    "total_simulation_time = 50.0 * unit.nanosecond  # Units = picoseconds\n",
    "simulation_time_step = 5.0 * unit.femtosecond\n",
    "total_steps = round(total_simulation_time.__div__(simulation_time_step))\n",
    "temperature = 300.0 * unit.kelvin"
   ]
  },
  {
   "cell_type": "code",
   "execution_count": 4,
   "metadata": {
    "collapsed": true
   },
   "outputs": [],
   "source": [
    "polymer_length = 12\n",
    "backbone_lengths = [1]\n",
    "sidechain_lengths = [1]\n",
    "sidechain_positions = [0]\n",
    "include_bond_forces = False\n",
    "include_bond_angle_forces = True\n",
    "include_nonbonded_forces = True\n",
    "include_torsion_forces = True\n",
    "constrain_bonds = True"
   ]
  },
  {
   "cell_type": "code",
   "execution_count": 5,
   "metadata": {
    "collapsed": true
   },
   "outputs": [],
   "source": [
    "# Bond definitions\n",
    "bond_length = 7.5 * unit.angstrom\n",
    "bond_lengths = {\n",
    "    'bb_bb_bond_length': bond_length,\n",
    "    'bb_sc_bond_length': bond_length,\n",
    "    'sc_sc_bond_length': bond_length}\n",
    "bond_force_constant = 0 * unit.kilocalorie_per_mole / unit.nanometer / unit.nanometer\n",
    "bond_force_constants = {\n",
    "    'bb_bb_bond_k': bond_force_constant,\n",
    "    'bb_sc_bond_k': bond_force_constant,\n",
    "    'sc_sc_bond_k': bond_force_constant}"
   ]
  },
  {
   "cell_type": "code",
   "execution_count": 6,
   "metadata": {
    "collapsed": true
   },
   "outputs": [],
   "source": [
    "mass = 100.0 * unit.amu\n",
    "masses = {'backbone_bead_masses': mass, 'sidechain_bead_masses': mass}\n",
    "r_min = 3.0 * bond_length  # Lennard-Jones potential r_min\n",
    "# Factor of /(2.0**(1/6)) is applied to convert r_min to sigma\n",
    "sigma = r_min / (2.0**(1 / 6))\n",
    "sigmas = {'bb_sigma': sigma, 'sc_sigma': sigma}\n",
    "epsilon = 0.5 * unit.kilocalorie_per_mole\n",
    "epsilons = {'bb_eps': epsilon, 'sc_eps': epsilon}"
   ]
  },
  {
   "cell_type": "code",
   "execution_count": 7,
   "metadata": {
    "collapsed": true
   },
   "outputs": [],
   "source": [
    "# Bond angle definitions\n",
    "bond_angle_force_constant = 0.5 * unit.kilocalorie_per_mole / unit.radian / unit.radian\n",
    "bond_angle_force_constants = {\n",
    "    'bb_bb_bb_angle_k': bond_angle_force_constant,\n",
    "    'bb_bb_sc_angle_k': bond_angle_force_constant}\n",
    "# OpenMM requires angle definitions in units of radians\n",
    "bb_bb_bb_equil_bond_angle = 120.0 * (np.math.pi / 180.0)\n",
    "bb_bb_sc_equil_bond_angle = 120.0 * (np.math.pi / 180.0)\n",
    "equil_bond_angles = {\n",
    "    'bb_bb_bb_angle_0': bb_bb_bb_equil_bond_angle,\n",
    "    'bb_bb_sc_angle_0': bb_bb_sc_equil_bond_angle}"
   ]
  },
  {
   "cell_type": "code",
   "execution_count": 8,
   "metadata": {
    "collapsed": true
   },
   "outputs": [],
   "source": [
    "torsion_force_constant = 0.5 * unit.kilocalorie_per_mole / unit.radian / unit.radian\n",
    "torsion_force_constants = {'bb_bb_bb_bb_torsion_k': torsion_force_constant}\n",
    "# OpenMM requires angle definitions in units of radians\n",
    "bb_bb_bb_bb_equil_torsion_angle = 78.0 * (np.math.pi / 180.0)\n",
    "bb_bb_bb_sc_equil_torsion_angle = 78.0 * (np.math.pi / 180.0)\n",
    "equil_torsion_angles = {\n",
    "    'bb_bb_bb_bb_torsion_0': bb_bb_bb_bb_equil_torsion_angle}\n",
    "torsion_periodicities = {'bb_bb_bb_bb_period': 1}"
   ]
  },
  {
   "cell_type": "code",
   "execution_count": null,
   "metadata": {
    "collapsed": true
   },
   "outputs": [],
   "source": [
    "positions = PDBFile(\"helix.pdb\").getPositions()"
   ]
  },
  {
   "cell_type": "code",
   "execution_count": null,
   "metadata": {
    "collapsed": false
   },
   "outputs": [],
   "source": [
    "cgmodel = CGModel(\n",
    "    polymer_length=polymer_length,\n",
    "    backbone_lengths=backbone_lengths,\n",
    "    sidechain_lengths=sidechain_lengths,\n",
    "    sidechain_positions=sidechain_positions,\n",
    "    masses=masses,\n",
    "    sigmas=sigmas,\n",
    "    epsilons=epsilons,\n",
    "    bond_lengths=bond_lengths,\n",
    "    bond_force_constants=bond_force_constants,\n",
    "    bond_angle_force_constants=bond_angle_force_constants,\n",
    "    torsion_force_constants=torsion_force_constants,\n",
    "    equil_bond_angles=equil_bond_angles,\n",
    "    equil_torsion_angles=equil_torsion_angles,\n",
    "    torsion_periodicities=torsion_periodicities,\n",
    "    include_nonbonded_forces=include_nonbonded_forces,\n",
    "    include_bond_forces=include_bond_forces,\n",
    "    include_bond_angle_forces=include_bond_angle_forces,\n",
    "    include_torsion_forces=include_torsion_forces,\n",
    "    constrain_bonds=constrain_bonds,\n",
    "    positions=positions)"
   ]
  },
  {
   "cell_type": "code",
   "execution_count": null,
   "metadata": {
    "collapsed": true
   },
   "outputs": [],
   "source": [
    "energy_kn = np.zeros((len(configurations),replica_energies.shape[2]))\n",
    "for i in range(len(replica_energies)):\n",
    "    energy_kn = replica_energies[:,i,:]"
   ]
  },
  {
   "cell_type": "code",
   "execution_count": null,
   "metadata": {
    "collapsed": true
   },
   "outputs": [],
   "source": [
    "print(\"Running a simulation.\")\n",
    "run_simulation(\n",
    "    cgmodel,\n",
    "    output_directory,\n",
    "    total_simulation_time,\n",
    "    simulation_time_step,\n",
    "    temperature,\n",
    "    print_frequency)\n",
    "\n",
    "exit()"
   ]
  },
  {
   "cell_type": "code",
   "execution_count": null,
   "metadata": {
    "collapsed": false
   },
   "outputs": [],
   "source": [
    "energy_bin = np.zeros((len(temperature_list),energy_kn.shape[1]))\n",
    "figure = pyplot.figure(0)\n",
    "for T_index in range(len(energy_kn)):\n",
    "    num_samples = int(len(configurations[T_index]))\n",
    "    pyplot.hist(energy_kn[T_index],num_samples,alpha=0.3)\n",
    "    #pyplot.hist(energy_kn[T_index][:num_samples],energy_bin)\n",
    "    \n",
    "pyplot.xlabel(\"Replica Energy\")\n",
    "pyplot.ylabel(\"Count\")\n",
    "pyplot.title(\"Replica Energy vs. Count\")\n",
    "pyplot.savefig(\"energy_dist.png\")\n",
    "pyplot.legend([round(temperature._value,1) for temperature in temperature_list],loc='center left', bbox_to_anchor=(1, 0.5),title='T (K)')    \n"
   ]
  },
  {
   "cell_type": "code",
   "execution_count": null,
   "metadata": {
    "collapsed": true
   },
   "outputs": [],
   "source": []
  },
  {
   "cell_type": "code",
   "execution_count": null,
   "metadata": {
    "collapsed": true
   },
   "outputs": [],
   "source": []
  }
 ],
 "metadata": {
  "kernelspec": {
   "display_name": "Python 3",
   "language": "python",
   "name": "python3"
  },
  "language_info": {
   "codemirror_mode": {
    "name": "ipython",
    "version": 3
   },
   "file_extension": ".py",
   "mimetype": "text/x-python",
   "name": "python",
   "nbconvert_exporter": "python",
   "pygments_lexer": "ipython3",
   "version": "3.6.8"
  }
 },
 "nbformat": 4,
 "nbformat_minor": 2
}
